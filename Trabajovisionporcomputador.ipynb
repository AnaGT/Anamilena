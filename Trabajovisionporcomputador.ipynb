{
  "nbformat": 4,
  "nbformat_minor": 0,
  "metadata": {
    "colab": {
      "provenance": [],
      "include_colab_link": true
    },
    "kernelspec": {
      "name": "python3",
      "display_name": "Python 3"
    },
    "language_info": {
      "name": "python"
    }
  },
  "cells": [
    {
      "cell_type": "markdown",
      "metadata": {
        "id": "view-in-github",
        "colab_type": "text"
      },
      "source": [
        "<a href=\"https://colab.research.google.com/github/AnaGT/Anamilena/blob/main/Trabajovisionporcomputador.ipynb\" target=\"_parent\"><img src=\"https://colab.research.google.com/assets/colab-badge.svg\" alt=\"Open In Colab\"/></a>"
      ]
    },
    {
      "cell_type": "code",
      "execution_count": 1,
      "metadata": {
        "id": "DcaXVeEzoFgs"
      },
      "outputs": [],
      "source": [
        "import numpy as np\n",
        "import matplotlib.pyplot as plt\n",
        "import glob\n",
        "import cv2\n",
        "\n",
        "from tensorflow.keras.models import Model, Sequential\n",
        "from tensorflow.keras.layers import Dense, Flatten, Conv2D, MaxPooling2D\n",
        "import os\n",
        "import seaborn as sns\n",
        "from tensorflow.keras.applications.vgg16 import VGG16 "
      ]
    },
    {
      "cell_type": "code",
      "source": [
        "#Leer imagenes y asignar labels basados en el nimbre de la carpeta"
      ],
      "metadata": {
        "id": "hnFFZ18Yqohv"
      },
      "execution_count": null,
      "outputs": []
    },
    {
      "cell_type": "code",
      "source": [
        "print(os.listdir(\"/content/DataFlowers\"))"
      ],
      "metadata": {
        "id": "EqbWw5Cyq-px",
        "outputId": "2bc99d32-4c87-4113-ed46-66b2aeea967f",
        "colab": {
          "base_uri": "https://localhost:8080/"
        }
      },
      "execution_count": 2,
      "outputs": [
        {
          "output_type": "stream",
          "name": "stdout",
          "text": [
            "['LICENSE.txt', 'Testing_set_flower.csv', 'Visionporcomputador2.docx', 'sample_submission.csv']\n"
          ]
        }
      ]
    },
    {
      "cell_type": "code",
      "source": [
        "size = 100 # Resize images"
      ],
      "metadata": {
        "id": "Zm5gSBUYr1Iz"
      },
      "execution_count": 3,
      "outputs": []
    },
    {
      "cell_type": "code",
      "source": [
        "pip install opencv-contrib-python\n"
      ],
      "metadata": {
        "id": "iv3pN6VgQA2_",
        "outputId": "331d681b-0f29-48dc-eaaf-c4d65b0b1c56",
        "colab": {
          "base_uri": "https://localhost:8080/"
        }
      },
      "execution_count": 7,
      "outputs": [
        {
          "output_type": "stream",
          "name": "stdout",
          "text": [
            "Looking in indexes: https://pypi.org/simple, https://us-python.pkg.dev/colab-wheels/public/simple/\n",
            "Requirement already satisfied: opencv-contrib-python in /usr/local/lib/python3.7/dist-packages (4.6.0.66)\n",
            "Requirement already satisfied: numpy>=1.14.5 in /usr/local/lib/python3.7/dist-packages (from opencv-contrib-python) (1.21.6)\n"
          ]
        }
      ]
    },
    {
      "cell_type": "code",
      "source": [
        "pip install -U scikit-image"
      ],
      "metadata": {
        "id": "8Y_ns9ttQOmK",
        "outputId": "cd41a2a7-1ff6-4ee8-d8ec-7074eeb34294",
        "colab": {
          "base_uri": "https://localhost:8080/"
        }
      },
      "execution_count": 8,
      "outputs": [
        {
          "output_type": "stream",
          "name": "stdout",
          "text": [
            "Looking in indexes: https://pypi.org/simple, https://us-python.pkg.dev/colab-wheels/public/simple/\n",
            "Requirement already satisfied: scikit-image in /usr/local/lib/python3.7/dist-packages (0.18.3)\n",
            "Collecting scikit-image\n",
            "  Downloading scikit_image-0.19.3-cp37-cp37m-manylinux_2_12_x86_64.manylinux2010_x86_64.whl (13.5 MB)\n",
            "\u001b[K     |████████████████████████████████| 13.5 MB 12.4 MB/s \n",
            "\u001b[?25hRequirement already satisfied: networkx>=2.2 in /usr/local/lib/python3.7/dist-packages (from scikit-image) (2.6.3)\n",
            "Requirement already satisfied: tifffile>=2019.7.26 in /usr/local/lib/python3.7/dist-packages (from scikit-image) (2021.11.2)\n",
            "Requirement already satisfied: scipy>=1.4.1 in /usr/local/lib/python3.7/dist-packages (from scikit-image) (1.7.3)\n",
            "Requirement already satisfied: PyWavelets>=1.1.1 in /usr/local/lib/python3.7/dist-packages (from scikit-image) (1.3.0)\n",
            "Requirement already satisfied: packaging>=20.0 in /usr/local/lib/python3.7/dist-packages (from scikit-image) (21.3)\n",
            "Requirement already satisfied: numpy>=1.17.0 in /usr/local/lib/python3.7/dist-packages (from scikit-image) (1.21.6)\n",
            "Requirement already satisfied: pillow!=7.1.0,!=7.1.1,!=8.3.0,>=6.1.0 in /usr/local/lib/python3.7/dist-packages (from scikit-image) (7.1.2)\n",
            "Requirement already satisfied: imageio>=2.4.1 in /usr/local/lib/python3.7/dist-packages (from scikit-image) (2.9.0)\n",
            "Requirement already satisfied: pyparsing!=3.0.5,>=2.0.2 in /usr/local/lib/python3.7/dist-packages (from packaging>=20.0->scikit-image) (3.0.9)\n",
            "Installing collected packages: scikit-image\n",
            "  Attempting uninstall: scikit-image\n",
            "    Found existing installation: scikit-image 0.18.3\n",
            "    Uninstalling scikit-image-0.18.3:\n",
            "      Successfully uninstalled scikit-image-0.18.3\n",
            "Successfully installed scikit-image-0.19.3\n"
          ]
        }
      ]
    },
    {
      "cell_type": "code",
      "source": [
        "path_train = \n",
        "path_test = "
      ],
      "metadata": {
        "id": "_9ttd3GVs-lA"
      },
      "execution_count": null,
      "outputs": []
    },
    {
      "cell_type": "code",
      "source": [
        "train_images = []\n",
        "train_labels = []\n",
        "for directory_path in glob.glob(path_train):\n",
        "    label = directory_path.split('/')[-1]\n",
        "    print(label)\n",
        "    for img_path in glob.glob(os.path.join(directory_path, \"*.jpg\")):\n",
        "        print(img_path)\n",
        "        img = cv2.imread(img_path, cv2.IMREAD_COLOR)\n",
        "        img = cv2.resize(img, (size, size))\n",
        "        img = cv2.cvtColor(img, cv2.COLOR_BGR2RGB)\n",
        "        train_images.append(img)\n",
        "        train_labels.append(label)"
      ],
      "metadata": {
        "id": "2w7xsrlwsyUU"
      },
      "execution_count": null,
      "outputs": []
    },
    {
      "cell_type": "code",
      "source": [
        "len(train_images)"
      ],
      "metadata": {
        "id": "rdHBc_dk4pGj"
      },
      "execution_count": null,
      "outputs": []
    },
    {
      "cell_type": "code",
      "source": [
        "# Convertir listas a arrays\n",
        "train_images = #escriba código aquí\n",
        "train_labels = #escriba código aquí"
      ],
      "metadata": {
        "id": "fcMAIhKRvvTs"
      },
      "execution_count": null,
      "outputs": []
    },
    {
      "cell_type": "code",
      "source": [
        "#Visuelize una imagen\n",
        "plt.imshow(#escriba código aquí)"
      ],
      "metadata": {
        "id": "h4VsAsBV2hrC"
      },
      "execution_count": null,
      "outputs": []
    },
    {
      "cell_type": "code",
      "source": [
        "# Hacer lo mismo para el conjunto de prueba\n",
        "test_images = []\n",
        "test_labels = []\n",
        "for directory_path in glob.glob(path_test):\n",
        "    label = directory_path.split('/')[-1]\n",
        "    print(label)\n",
        "    for img_path in glob.glob(os.path.join(directory_path, \"*.jpg\")):\n",
        "        print(img_path)\n",
        "        img = cv2.imread(img_path, cv2.IMREAD_COLOR)\n",
        "        img = cv2.resize(img, (size, size))\n",
        "        img = cv2.cvtColor(img, cv2.COLOR_BGR2RGB)\n",
        "        test_images.append(img)\n",
        "        test_labels.append(label)"
      ],
      "metadata": {
        "id": "W-FQOJ_vwG0D"
      },
      "execution_count": null,
      "outputs": []
    },
    {
      "cell_type": "code",
      "source": [
        "# Convertir listas a arrays\n",
        "test_images = #escriba código aquí\n",
        "test_labels = #escriba código aquí"
      ],
      "metadata": {
        "id": "raBoJc9PwqgY"
      },
      "execution_count": null,
      "outputs": []
    },
    {
      "cell_type": "code",
      "source": [
        "#encode labels to integers\n",
        "from sklearn import preprocessing\n",
        "le = #escriba código aquí\n",
        "le.fit(test_labels)\n",
        "test_labels_encoded = le.transform(test_labels)\n",
        "le.fit(train_labels)\n",
        "train_labels_encoded = le.transform(train_labels)"
      ],
      "metadata": {
        "id": "w1JVj5d1w2z9"
      },
      "execution_count": null,
      "outputs": []
    },
    {
      "cell_type": "code",
      "source": [
        "train_labels[1]"
      ],
      "metadata": {
        "id": "cLsSe_3w3S0r"
      },
      "execution_count": null,
      "outputs": []
    },
    {
      "cell_type": "code",
      "source": [
        "train_labels_encoded"
      ],
      "metadata": {
        "id": "KVeI5b6V3BKE"
      },
      "execution_count": null,
      "outputs": []
    },
    {
      "cell_type": "code",
      "source": [
        "x_train, y_train, x_test, y_test = train_images, train_labels_encoded, test_images, test_labels_encoded"
      ],
      "metadata": {
        "id": "B9mUgn6XytEG"
      },
      "execution_count": null,
      "outputs": []
    },
    {
      "cell_type": "code",
      "source": [
        "#Normalizamos los valores de los pixeles a valores entre 0 y 1\n",
        "x_train, x_test = x_train/255.0, x_test/255.0"
      ],
      "metadata": {
        "id": "UzO0NtHMzDsV"
      },
      "execution_count": null,
      "outputs": []
    },
    {
      "cell_type": "code",
      "source": [
        "#Cargamos el modelo que vamos a usar como extractor de características\n",
        "VGG_model = #escriba código aquí"
      ],
      "metadata": {
        "id": "5CgcKCpPzx-u"
      },
      "execution_count": null,
      "outputs": []
    },
    {
      "cell_type": "code",
      "source": [
        "for layer in VGG_model.layers:\n",
        "    layer.trainable = False"
      ],
      "metadata": {
        "id": "aRWruQKR0h7h"
      },
      "execution_count": null,
      "outputs": []
    },
    {
      "cell_type": "code",
      "source": [
        "VGG_model.summary()"
      ],
      "metadata": {
        "id": "f3fNnAZ_00QG"
      },
      "execution_count": null,
      "outputs": []
    },
    {
      "cell_type": "code",
      "source": [
        "x_train.shape"
      ],
      "metadata": {
        "id": "Bi6zN-qs4jos"
      },
      "execution_count": null,
      "outputs": []
    },
    {
      "cell_type": "code",
      "source": [
        "feature_extractor = #escriba código aquí"
      ],
      "metadata": {
        "id": "u8tAbumz02kQ"
      },
      "execution_count": null,
      "outputs": []
    },
    {
      "cell_type": "code",
      "source": [
        "feature_extractor.shape"
      ],
      "metadata": {
        "id": "vtVuivdW2j9N"
      },
      "execution_count": null,
      "outputs": []
    },
    {
      "cell_type": "code",
      "source": [
        "features = feature_extractor.reshape(feature_extractor.shape[0], -1)"
      ],
      "metadata": {
        "id": "n8eQub1M58xz"
      },
      "execution_count": null,
      "outputs": []
    },
    {
      "cell_type": "code",
      "source": [
        "features.shape"
      ],
      "metadata": {
        "id": "3AgccP-m6PKo"
      },
      "execution_count": null,
      "outputs": []
    },
    {
      "cell_type": "code",
      "source": [
        "X_for_training = features"
      ],
      "metadata": {
        "id": "zOfb1E5j6_SC"
      },
      "execution_count": null,
      "outputs": []
    },
    {
      "cell_type": "code",
      "source": [
        "from sklearn.svm import #escriba código aquí\n",
        "model = #escriba código aquí\n",
        "model.fit(X_for_training, y_train)"
      ],
      "metadata": {
        "id": "1Qa-xBA-6QwX"
      },
      "execution_count": null,
      "outputs": []
    },
    {
      "cell_type": "code",
      "source": [
        "#Hacemos lo mismo para los datpos de test"
      ],
      "metadata": {
        "id": "6fnDXDGR8D3f"
      },
      "execution_count": null,
      "outputs": []
    },
    {
      "cell_type": "code",
      "source": [
        "X_test_feature = #escriba código aquí"
      ],
      "metadata": {
        "id": "y2-pryf3770b"
      },
      "execution_count": null,
      "outputs": []
    },
    {
      "cell_type": "code",
      "source": [
        "X_test_feature.shape"
      ],
      "metadata": {
        "id": "aQp9zcERAfE4"
      },
      "execution_count": null,
      "outputs": []
    },
    {
      "cell_type": "code",
      "source": [
        "X_test_features = X_test_feature.reshape(X_test_feature.shape[0], -1)"
      ],
      "metadata": {
        "id": "19gQwJRw8SUG"
      },
      "execution_count": null,
      "outputs": []
    },
    {
      "cell_type": "code",
      "source": [
        "X_test_features.shape"
      ],
      "metadata": {
        "id": "XBA-CY9F8zBR"
      },
      "execution_count": null,
      "outputs": []
    },
    {
      "cell_type": "code",
      "source": [
        "#Hacemos la predicción con el modelo entrenado\n",
        "prediction = model.predict(X_test_features)"
      ],
      "metadata": {
        "id": "jSOXdlTG8kmU"
      },
      "execution_count": null,
      "outputs": []
    },
    {
      "cell_type": "code",
      "source": [
        "#Hacemos invers le transform para obtener el bloque original de labels\n",
        "prediction = le.inverse_transform(prediction)"
      ],
      "metadata": {
        "id": "umdhMTil8xDC"
      },
      "execution_count": null,
      "outputs": []
    },
    {
      "cell_type": "code",
      "source": [
        "prediction"
      ],
      "metadata": {
        "id": "VMR5GfiV_CeJ"
      },
      "execution_count": null,
      "outputs": []
    },
    {
      "cell_type": "code",
      "source": [
        "#Obtenemos el Accuracy total\n",
        "from sklearn import metrics\n",
        "print(\"Accuracy = \", metrics.accuracy_score(test_labels, prediction))"
      ],
      "metadata": {
        "id": "RCn2NMqN9IXx"
      },
      "execution_count": null,
      "outputs": []
    },
    {
      "cell_type": "code",
      "source": [
        "from sklearn.metrics import confusion_matrix"
      ],
      "metadata": {
        "id": "KaBG42tS9bU7"
      },
      "execution_count": null,
      "outputs": []
    },
    {
      "cell_type": "code",
      "source": [
        "cm = confusion_matrix(test_labels, prediction)"
      ],
      "metadata": {
        "id": "qMom0jxD9l6F"
      },
      "execution_count": null,
      "outputs": []
    },
    {
      "cell_type": "code",
      "source": [
        "sns. heatmap(cm, annot = True)"
      ],
      "metadata": {
        "id": "h7_1LU579sfM"
      },
      "execution_count": null,
      "outputs": []
    },
    {
      "cell_type": "code",
      "source": [
        "# Probamos el algoritmo entrenado en algunas imagenes\n",
        "path_new =  \n",
        "validation_images = []\n",
        "\n",
        "\n",
        "for img_path in glob.glob(os.path.join(path_new, \"*.jpg\")):\n",
        "    print(img_path)\n",
        "    img = cv2.imread(img_path, cv2.IMREAD_COLOR)\n",
        "    img = cv2.resize(img, (size, size))\n",
        "    img = cv2.cvtColor(img, cv2.COLOR_BGR2RGB)\n",
        "    validation_images.append(img)\n"
      ],
      "metadata": {
        "id": "yT71JPPf92Zo"
      },
      "execution_count": null,
      "outputs": []
    },
    {
      "cell_type": "code",
      "source": [
        "validation_images = np.array(validation_images)"
      ],
      "metadata": {
        "id": "_PntayKyHywT"
      },
      "execution_count": null,
      "outputs": []
    },
    {
      "cell_type": "code",
      "source": [
        "n= np.random.randint(0, validation_images.shape[0])\n",
        "img = validation_images[n]\n",
        "plt.imshow(img)"
      ],
      "metadata": {
        "id": "j-5wT2mwGjad"
      },
      "execution_count": null,
      "outputs": []
    },
    {
      "cell_type": "code",
      "source": [
        "input_image = np.expand_dims(img, axis=0)\n",
        "input_image_feature = VGG_model.predict(input_image)\n"
      ],
      "metadata": {
        "id": "_Zxd6dsi-IFA"
      },
      "execution_count": null,
      "outputs": []
    },
    {
      "cell_type": "code",
      "source": [
        "input_image_feature.shape"
      ],
      "metadata": {
        "id": "NZDkDFhMAQYY"
      },
      "execution_count": null,
      "outputs": []
    },
    {
      "cell_type": "code",
      "source": [
        "input_image_features = input_image_feature.reshape(input_image_feature.shape[0], -1)"
      ],
      "metadata": {
        "id": "iki3rGHv_G8H"
      },
      "execution_count": null,
      "outputs": []
    },
    {
      "cell_type": "code",
      "source": [
        "input_image_features.shape"
      ],
      "metadata": {
        "id": "YIXPaXxaA8Cl"
      },
      "execution_count": null,
      "outputs": []
    },
    {
      "cell_type": "code",
      "source": [
        "prediction = model.predict(input_image_features)[0]"
      ],
      "metadata": {
        "id": "PvZ2lbGPCYpS"
      },
      "execution_count": null,
      "outputs": []
    },
    {
      "cell_type": "code",
      "source": [
        "print(prediction)"
      ],
      "metadata": {
        "id": "1M_TeBbmDb11"
      },
      "execution_count": null,
      "outputs": []
    },
    {
      "cell_type": "code",
      "source": [
        "prediction = le.inverse_transform([prediction])\n",
        "print(\"the prediction for this image is:\", prediction)"
      ],
      "metadata": {
        "id": "EwYAxtbXDvRG"
      },
      "execution_count": null,
      "outputs": []
    }
  ]
}