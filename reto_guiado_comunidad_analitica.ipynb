{
 "cells": [
  {
   "cell_type": "markdown",
   "metadata": {
    "id": "7M-WgZy4RuCd"
   },
   "source": [
    "# Workshop: Una introducción a Python y el análisis de datos\n"
   ]
  },
  {
   "cell_type": "markdown",
   "metadata": {
    "id": "V6zFbQxL1bpI"
   },
   "source": [
    "# 1. Python 🐍\n",
    "\n",
    "Python es un lenguaje con una sintaxis clara, poderoso, muy usado en todo el mundo por investigadoros, ingenieros y personas de muchas profesiones. Ahora tú también podrás usarlo para lo que quieras!\n",
    "\n",
    "### ¿Qué es Python?\n",
    "\n",
    "* Es un lenguaje de programación de alto nivel.\n",
    "\n",
    "* Es multiparadigma y multiplataforma.\n",
    "\n",
    "* Open source :) Una gran comunidad lo usa en todo el mundo\n",
    "\n",
    "* Dinámicamente tipado (ya veremos qué significa)\n",
    "\n",
    "* Interpretado\n",
    "\n",
    "Fue creado por Guido Van Rossum, quien trabajaba en Google. Nombró así el lenguaje en honor a Monthy Python."
   ]
  },
  {
   "cell_type": "markdown",
   "metadata": {
    "id": "Rm_bAdM42hYY"
   },
   "source": [
    "\n",
    "### ¿Qué puedo hacer con Python ?\n",
    "Básicamente cualquier cosa. Una vez aprendas lo básico de Python es como tener un juego de legos con el que puedes crear lo que quieras."
   ]
  },
  {
   "cell_type": "code",
   "execution_count": 57,
   "metadata": {
    "colab": {
     "base_uri": "https://localhost:8080/"
    },
    "id": "bH2Y6myx2Ikk",
    "outputId": "e57f9f3a-b6bc-455a-eada-92fa3cf157e2"
   },
   "outputs": [
    {
     "name": "stdout",
     "output_type": "stream",
     "text": [
      "Hola comunidad Análitica!\n"
     ]
    }
   ],
   "source": [
    "print('Hola comunidad Análitica!') # reemplaza 'Hola comunidad Análitica!' por tu nombre y presiona shift + enter"
   ]
  },
  {
   "cell_type": "markdown",
   "metadata": {
    "id": "72UqjvNC35Pa"
   },
   "source": [
    "\n",
    "## ¿Qué es un programa?\n",
    "Un programa es una abtracción de la realidad, tiene componentes como entrada, salida y unos procesos en el medio que realizaremos usando codigo para transformar nuestra entrada.\n",
    "\n",
    "Podemos hacer muchas cosas pero las piedras básicas de la programación son:\n",
    "\n",
    "- Condiciones\n",
    "- Los ciclos\n",
    "- Las operaciones lógicas AND, OR\n",
    "- Matemática básica\n"
   ]
  },
  {
   "cell_type": "markdown",
   "metadata": {
    "id": "-vD4cPXy4-kC"
   },
   "source": [
    "## Debugging\n",
    "El termino \"bug\" fue usado por primera vez por la pionera en computación Grace Hopper.\n",
    "\n",
    "En el ejercicio de la programación te acostumbrarás a cometer errores, nunca se dejan de cometer pero la gracia es volvernos buenos en corregirlos y prevenirlos con buenas prácticas, no te frustres por los errores. Podemos tener tres tipos:\n",
    "\n",
    "- Errores de sintaxis.\n",
    "\n",
    "- Errores en tiempo de ejecución (más raros) Como tratar de dividir por 0. Esta bien en la sintaxis $x$/0 pero no esta bien!\n",
    "\n",
    "- Errores semánticos (bugs). “El programa que escribiste no es el que querías.” Necesitas pensar de nuevo..."
   ]
  },
  {
   "cell_type": "markdown",
   "metadata": {
    "id": "N1naTrm_5Vjz"
   },
   "source": [
    "\n",
    "### ¿Que hacer al tener un error ?\n",
    "Googlealo. Seguro no sólo a ti te pasó.\n",
    "\n",
    "Leer la [documentación de python](https://www.python.org/)\n",
    "\n",
    "Trata de imprimir los pasos del programa para detectar en que parte cometiste el error"
   ]
  },
  {
   "cell_type": "markdown",
   "metadata": {
    "id": "3KWOBEVY52ua"
   },
   "source": [
    "## Valores y tipos en Python\n",
    "\n",
    "* *Valor:* Un valor tiene un tipo o una clase a la que pertenece \n",
    "\n",
    "* *Variable:* Una variable refiere a un valor\n",
    "\n",
    "\n",
    "Las asignaciones en python y en casi todos los lenguajes de programacion se hacen como en matemática\n",
    "\n",
    "\n",
    "### variable <-- valor"
   ]
  },
  {
   "cell_type": "code",
   "execution_count": 58,
   "metadata": {
    "id": "t-OG4L3N4Xav"
   },
   "outputs": [],
   "source": [
    "n = 17\n",
    "pi = 3.1416\n",
    "mensaje = 'Hola !'"
   ]
  },
  {
   "cell_type": "markdown",
   "metadata": {
    "id": "swxq8pO26IL8"
   },
   "source": [
    "En python se crea y se asigna al mismo tiempo las variables. Su tipado es dinámico."
   ]
  },
  {
   "cell_type": "code",
   "execution_count": 59,
   "metadata": {
    "colab": {
     "base_uri": "https://localhost:8080/"
    },
    "id": "Ngu7IpYY6JDd",
    "outputId": "c4aef66a-ae67-4441-deb9-c54dd7101e3e"
   },
   "outputs": [
    {
     "data": {
      "text/plain": [
       "str"
      ]
     },
     "execution_count": 59,
     "metadata": {
      "tags": []
     },
     "output_type": "execute_result"
    }
   ],
   "source": [
    "mensaje = 'Hola !'\n",
    "\n",
    "# la funcion type te devuelve el tipo de dato de una variable\n",
    "type(mensaje)"
   ]
  },
  {
   "cell_type": "markdown",
   "metadata": {
    "id": "Vz6cvWmL6S_z"
   },
   "source": [
    "## Tipos de datos en Python\n",
    "\n",
    "Los tipos de datos básicos en Python son:\n",
    "\n",
    "- Entero: `a = 2`\n",
    "- Float: `b = 2.0`\n",
    "- Cadenas: `s = “Hola Mundo!”`\n",
    "- Boolean: `vacio = False`\n",
    "- Listas: `lista = [12, “Camila”, False]`\n",
    "- Tuplas: `x = (1, 2, \"w\", \":)\")`\n",
    "- Diccionarios: `dias = {\"Lunes\": 1, \"Martes\": 2, \"Miercoles\":3}`"
   ]
  },
  {
   "cell_type": "markdown",
   "metadata": {
    "id": "l__8HOyx7yV_"
   },
   "source": [
    "## Aritméticos\n",
    "\n",
    "- Para sumar dos números usa `+`\n",
    "- Restar usa `-`\n",
    "- Multiplicacion `*`\n",
    "- División `/`\n",
    "- Potencia `**`\n",
    "\n",
    "mini ejercicio --> `//`, `% `Para qué sirven? Úsalos y averigua!\n",
    "\n",
    "La prioridad de las operaciones en Python es: Multiplicacion y division antes que suma y resta. Pero si tienes dudas usa paréntesis para agrupar expresiones."
   ]
  },
  {
   "cell_type": "code",
   "execution_count": 60,
   "metadata": {
    "colab": {
     "base_uri": "https://localhost:8080/"
    },
    "id": "aRM_yDuY6zX5",
    "outputId": "22d44196-5894-4019-9209-782679a5b95b"
   },
   "outputs": [
    {
     "data": {
      "text/plain": [
       "14"
      ]
     },
     "execution_count": 60,
     "metadata": {
      "tags": []
     },
     "output_type": "execute_result"
    }
   ],
   "source": [
    "3 * 4 + 2  # equivalente a (3*4) + 12"
   ]
  },
  {
   "cell_type": "code",
   "execution_count": 61,
   "metadata": {
    "colab": {
     "base_uri": "https://localhost:8080/"
    },
    "id": "S9hXYp_S-E80",
    "outputId": "ce0189fd-7d01-44f8-c74c-ee878f7230b3"
   },
   "outputs": [
    {
     "data": {
      "text/plain": [
       "3.5"
      ]
     },
     "execution_count": 61,
     "metadata": {
      "tags": []
     },
     "output_type": "execute_result"
    }
   ],
   "source": [
    "3/2 + 2"
   ]
  },
  {
   "cell_type": "code",
   "execution_count": 62,
   "metadata": {
    "colab": {
     "base_uri": "https://localhost:8080/"
    },
    "id": "Gu11wJ6T-H4B",
    "outputId": "9e1b6a8d-df93-4745-d432-2b28a907bf37"
   },
   "outputs": [
    {
     "data": {
      "text/plain": [
       "9"
      ]
     },
     "execution_count": 62,
     "metadata": {
      "tags": []
     },
     "output_type": "execute_result"
    }
   ],
   "source": [
    "2**3 + 1 # potencia prioridad antes de suma"
   ]
  },
  {
   "cell_type": "markdown",
   "metadata": {
    "id": "_qafy1zk-Pn6"
   },
   "source": [
    "## De comparación\n",
    "\n",
    "`==, <, >, <=, >=, !=`\n",
    "\n",
    "Para saber si dos expresiones son iguales, o si una cantidad es mayor que la otra usamos casi los mismos simbolos de matemática, dos iguales son para comparar. Uno para asignar."
   ]
  },
  {
   "cell_type": "code",
   "execution_count": 3,
   "metadata": {
    "colab": {
     "base_uri": "https://localhost:8080/"
    },
    "id": "oETnCFuc-JxU",
    "outputId": "ece9dfe6-3754-44a0-9fd5-ef1bb158f089"
   },
   "outputs": [
    {
     "name": "stdout",
     "output_type": "stream",
     "text": [
      "5\n"
     ]
    }
   ],
   "source": [
    "a = 2 # Con = asignamos un valor (2) a una variable (a)\n",
    "b = 3 \n",
    "c = a + b\n",
    "print(c)"
   ]
  },
  {
   "cell_type": "code",
   "execution_count": 64,
   "metadata": {
    "colab": {
     "base_uri": "https://localhost:8080/"
    },
    "id": "z7QvsQJM-_vZ",
    "outputId": "502449f0-cf91-4ccb-9fe0-f3bf6cc453b5"
   },
   "outputs": [
    {
     "data": {
      "text/plain": [
       "False"
      ]
     },
     "execution_count": 64,
     "metadata": {
      "tags": []
     },
     "output_type": "execute_result"
    }
   ],
   "source": [
    "a > b"
   ]
  },
  {
   "cell_type": "markdown",
   "metadata": {
    "id": "QlD5Rhx3lxBu"
   },
   "source": [
    "## Librerías \n",
    "\n",
    "Las librerías o módulos son código creado por otras personas que podemos usar para no tener que \"reinventar la rueda\". Pueden traer variables y funciones útiles optimizadas."
   ]
  },
  {
   "cell_type": "code",
   "execution_count": 1,
   "metadata": {
    "id": "rihE3p_wlxBu"
   },
   "outputs": [],
   "source": [
    "#importar una librería\n",
    "import antigravity"
   ]
  },
  {
   "cell_type": "code",
   "execution_count": 2,
   "metadata": {
    "id": "0jJDlCTLSDaB"
   },
   "outputs": [
    {
     "name": "stdout",
     "output_type": "stream",
     "text": [
      "The Zen of Python, by Tim Peters\n",
      "\n",
      "Beautiful is better than ugly.\n",
      "Explicit is better than implicit.\n",
      "Simple is better than complex.\n",
      "Complex is better than complicated.\n",
      "Flat is better than nested.\n",
      "Sparse is better than dense.\n",
      "Readability counts.\n",
      "Special cases aren't special enough to break the rules.\n",
      "Although practicality beats purity.\n",
      "Errors should never pass silently.\n",
      "Unless explicitly silenced.\n",
      "In the face of ambiguity, refuse the temptation to guess.\n",
      "There should be one-- and preferably only one --obvious way to do it.\n",
      "Although that way may not be obvious at first unless you're Dutch.\n",
      "Now is better than never.\n",
      "Although never is often better than *right* now.\n",
      "If the implementation is hard to explain, it's a bad idea.\n",
      "If the implementation is easy to explain, it may be a good idea.\n",
      "Namespaces are one honking great idea -- let's do more of those!\n"
     ]
    }
   ],
   "source": [
    "import this"
   ]
  },
  {
   "cell_type": "markdown",
   "metadata": {
    "id": "N_-S4w4oA1oD"
   },
   "source": [
    "# 2. Una introducción al análisis de datos"
   ]
  },
  {
   "cell_type": "markdown",
   "metadata": {
    "id": "CNOYUYhDlxBv"
   },
   "source": [
    "Vamos a realizar un ejercicio practica con una pequeña encuesta que realizaremos durante este workshop. La idea es aplicar algunas técnicas de analisis de datos utilizando esta encuesta y por supuesto, python :)\n"
   ]
  },
  {
   "cell_type": "code",
   "execution_count": 5,
   "metadata": {
    "id": "ZRpHZCrulxBv"
   },
   "outputs": [],
   "source": [
    "'''\n",
    "Por medio del comando import vamos a importar las librerías que vamos a utilizar\n",
    "luego, le vamos a colacar un alias para ser llamada mas facil.\n",
    "\n",
    "import libreria as alias\n",
    "'''\n",
    "import pandas as pd\n",
    "import numpy as np\n",
    "import seaborn as sns\n",
    "import matplotlib.pyplot as plt\n",
    "from datetime import datetime"
   ]
  },
  {
   "cell_type": "code",
   "execution_count": 6,
   "metadata": {
    "id": "Xb2Z5zfSlxBv"
   },
   "outputs": [],
   "source": [
    "'''\n",
    "Ahora es tiempo de cargar nuestros datos a Python para poder analizarlos, \n",
    "vamos a utilizar una funcion de una libreria que sirve para leer archivos de \n",
    "excel y la vamos a asignar a una variable\n",
    "'''\n",
    "\n",
    "df = pd.read_excel(\"datos.xlsx\")"
   ]
  },
  {
   "cell_type": "code",
   "execution_count": 7,
   "metadata": {
    "colab": {
     "base_uri": "https://localhost:8080/"
    },
    "id": "KikT8CG5lxBv",
    "outputId": "ff6b7208-b265-41af-d904-62cf8795f65f"
   },
   "outputs": [
    {
     "data": {
      "text/plain": [
       "Index(['ID', 'Hora de inicio', 'Hora de finalización', 'Correo electrónico',\n",
       "       'Nombre', '¿A que equipo perteneces?', '¿Cuántos libros lees al año?',\n",
       "       'Fecha de nacimiento', '¿Qué tipo de música te gusta?',\n",
       "       '¿Tienes hijos?', '¿Te gusta la analítica?',\n",
       "       '¿Practicas algún deporte?',\n",
       "       '¿Cuánto tiempo llevas en Comfama? (equivalente en años)', 'Género',\n",
       "       '¿Tienes mascotas?', '¿Qué programa usas para hacer análisis de datos?',\n",
       "       '¿Qué conocimientos tienes de analítica?',\n",
       "       '¿Has realizado algún estudio relacionado con analítica?',\n",
       "       '¿En tu equipo has socializado o compartido información en temas de analítica?',\n",
       "       '¿Se han implementado acciones asociada a la analítica en actividades o procesos de tu equipo?'],\n",
       "      dtype='object')"
      ]
     },
     "execution_count": 7,
     "metadata": {},
     "output_type": "execute_result"
    }
   ],
   "source": [
    "'''\n",
    "En esta celda podemos ver que columnas tiene nuestros datos y como se llaman \n",
    "cada una de estas\n",
    "'''\n",
    "\n",
    "df.columns"
   ]
  },
  {
   "cell_type": "code",
   "execution_count": 8,
   "metadata": {
    "id": "WvM7i_p3lxBw"
   },
   "outputs": [],
   "source": [
    "'''\n",
    "¿Que tal si queremos renombrar las columnas por unos nombres mas faciles \n",
    "de recordar?\n",
    "\n",
    "Pues bien, vamos a reescribir las columnas a continuación\n",
    "'''\n",
    "\n",
    "columnas_nuevas = ['ID',\n",
    "                    'hora_inicial',\n",
    "                    'hora_finalizacion',\n",
    "                    'correo_electronico',\n",
    "                    'nombre',\n",
    "                    'equipo',\n",
    "                    'cantidad_libros',\n",
    "                    'fecha_nacimiento',\n",
    "                    'musica_preferida',\n",
    "                    'tienes_hijos',\n",
    "                    'te_gusta_analitica',\n",
    "                    'practicas_deporte',\n",
    "                    'antiguedad_comfama',\n",
    "                    'genero',\n",
    "                    'tienes_mascotas',\n",
    "                    'programas_usados',\n",
    "                    'conocimientos_analitica',\n",
    "                    'estudio_de_analitica',\n",
    "                    'socializacion_equipo_analitica',\n",
    "                    'acciones_equipo_analitica']"
   ]
  },
  {
   "cell_type": "code",
   "execution_count": 9,
   "metadata": {
    "id": "rZBPX374lxBw"
   },
   "outputs": [],
   "source": [
    "'''\n",
    "Asignamos estos nuevos nombres a las columnas de nuestros datos\n",
    "'''\n",
    "df.columns = columnas_nuevas"
   ]
  },
  {
   "cell_type": "code",
   "execution_count": 10,
   "metadata": {
    "colab": {
     "base_uri": "https://localhost:8080/"
    },
    "id": "qJVkIYpFlxBx",
    "outputId": "edb9ac30-2872-4e0e-ba5c-8233b75081b9"
   },
   "outputs": [
    {
     "name": "stdout",
     "output_type": "stream",
     "text": [
      "<class 'pandas.core.frame.DataFrame'>\n",
      "RangeIndex: 5 entries, 0 to 4\n",
      "Data columns (total 20 columns):\n",
      "ID                                5 non-null int64\n",
      "hora_inicial                      5 non-null datetime64[ns]\n",
      "hora_finalizacion                 5 non-null datetime64[ns]\n",
      "correo_electronico                5 non-null object\n",
      "nombre                            5 non-null object\n",
      "equipo                            5 non-null object\n",
      "cantidad_libros                   5 non-null int64\n",
      "fecha_nacimiento                  5 non-null datetime64[ns]\n",
      "musica_preferida                  5 non-null object\n",
      "tienes_hijos                      5 non-null object\n",
      "te_gusta_analitica                5 non-null object\n",
      "practicas_deporte                 5 non-null object\n",
      "antiguedad_comfama                5 non-null int64\n",
      "genero                            5 non-null object\n",
      "tienes_mascotas                   5 non-null object\n",
      "programas_usados                  5 non-null object\n",
      "conocimientos_analitica           5 non-null object\n",
      "estudio_de_analitica              5 non-null object\n",
      "socializacion_equipo_analitica    5 non-null object\n",
      "acciones_equipo_analitica         5 non-null object\n",
      "dtypes: datetime64[ns](3), int64(3), object(14)\n",
      "memory usage: 880.0+ bytes\n"
     ]
    }
   ],
   "source": [
    "'''\n",
    "Observemos una informacion inicial de los datos\n",
    "'''\n",
    "df.info()"
   ]
  },
  {
   "cell_type": "code",
   "execution_count": 11,
   "metadata": {
    "colab": {
     "base_uri": "https://localhost:8080/",
     "height": 288
    },
    "id": "qGmCqjm0lxBx",
    "outputId": "e115b347-a5d5-4eda-b491-70b57b9ed1e9"
   },
   "outputs": [
    {
     "data": {
      "text/html": [
       "<div>\n",
       "<style scoped>\n",
       "    .dataframe tbody tr th:only-of-type {\n",
       "        vertical-align: middle;\n",
       "    }\n",
       "\n",
       "    .dataframe tbody tr th {\n",
       "        vertical-align: top;\n",
       "    }\n",
       "\n",
       "    .dataframe thead th {\n",
       "        text-align: right;\n",
       "    }\n",
       "</style>\n",
       "<table border=\"1\" class=\"dataframe\">\n",
       "  <thead>\n",
       "    <tr style=\"text-align: right;\">\n",
       "      <th></th>\n",
       "      <th>ID</th>\n",
       "      <th>cantidad_libros</th>\n",
       "      <th>antiguedad_comfama</th>\n",
       "    </tr>\n",
       "  </thead>\n",
       "  <tbody>\n",
       "    <tr>\n",
       "      <th>count</th>\n",
       "      <td>5.000000</td>\n",
       "      <td>5.000000</td>\n",
       "      <td>5.000000</td>\n",
       "    </tr>\n",
       "    <tr>\n",
       "      <th>mean</th>\n",
       "      <td>3.000000</td>\n",
       "      <td>11.000000</td>\n",
       "      <td>2.600000</td>\n",
       "    </tr>\n",
       "    <tr>\n",
       "      <th>std</th>\n",
       "      <td>1.581139</td>\n",
       "      <td>8.485281</td>\n",
       "      <td>1.516575</td>\n",
       "    </tr>\n",
       "    <tr>\n",
       "      <th>min</th>\n",
       "      <td>1.000000</td>\n",
       "      <td>0.000000</td>\n",
       "      <td>1.000000</td>\n",
       "    </tr>\n",
       "    <tr>\n",
       "      <th>25%</th>\n",
       "      <td>2.000000</td>\n",
       "      <td>5.000000</td>\n",
       "      <td>2.000000</td>\n",
       "    </tr>\n",
       "    <tr>\n",
       "      <th>50%</th>\n",
       "      <td>3.000000</td>\n",
       "      <td>12.000000</td>\n",
       "      <td>2.000000</td>\n",
       "    </tr>\n",
       "    <tr>\n",
       "      <th>75%</th>\n",
       "      <td>4.000000</td>\n",
       "      <td>18.000000</td>\n",
       "      <td>3.000000</td>\n",
       "    </tr>\n",
       "    <tr>\n",
       "      <th>max</th>\n",
       "      <td>5.000000</td>\n",
       "      <td>20.000000</td>\n",
       "      <td>5.000000</td>\n",
       "    </tr>\n",
       "  </tbody>\n",
       "</table>\n",
       "</div>"
      ],
      "text/plain": [
       "             ID  cantidad_libros  antiguedad_comfama\n",
       "count  5.000000         5.000000            5.000000\n",
       "mean   3.000000        11.000000            2.600000\n",
       "std    1.581139         8.485281            1.516575\n",
       "min    1.000000         0.000000            1.000000\n",
       "25%    2.000000         5.000000            2.000000\n",
       "50%    3.000000        12.000000            2.000000\n",
       "75%    4.000000        18.000000            3.000000\n",
       "max    5.000000        20.000000            5.000000"
      ]
     },
     "execution_count": 11,
     "metadata": {},
     "output_type": "execute_result"
    }
   ],
   "source": [
    "'''\n",
    "Observemos algunas estadisticas rapidas sobre las columnas numericas\n",
    "'''\n",
    "df.describe()"
   ]
  },
  {
   "cell_type": "code",
   "execution_count": 12,
   "metadata": {
    "colab": {
     "base_uri": "https://localhost:8080/",
     "height": 240
    },
    "id": "Q-zEoy51lxBx",
    "outputId": "8704f3d1-49dd-4b28-dac6-104c6d55923e",
    "scrolled": true
   },
   "outputs": [
    {
     "data": {
      "text/html": [
       "<div>\n",
       "<style scoped>\n",
       "    .dataframe tbody tr th:only-of-type {\n",
       "        vertical-align: middle;\n",
       "    }\n",
       "\n",
       "    .dataframe tbody tr th {\n",
       "        vertical-align: top;\n",
       "    }\n",
       "\n",
       "    .dataframe thead th {\n",
       "        text-align: right;\n",
       "    }\n",
       "</style>\n",
       "<table border=\"1\" class=\"dataframe\">\n",
       "  <thead>\n",
       "    <tr style=\"text-align: right;\">\n",
       "      <th></th>\n",
       "      <th>correo_electronico</th>\n",
       "      <th>nombre</th>\n",
       "      <th>equipo</th>\n",
       "      <th>musica_preferida</th>\n",
       "      <th>tienes_hijos</th>\n",
       "      <th>te_gusta_analitica</th>\n",
       "      <th>practicas_deporte</th>\n",
       "      <th>genero</th>\n",
       "      <th>tienes_mascotas</th>\n",
       "      <th>programas_usados</th>\n",
       "      <th>conocimientos_analitica</th>\n",
       "      <th>estudio_de_analitica</th>\n",
       "      <th>socializacion_equipo_analitica</th>\n",
       "      <th>acciones_equipo_analitica</th>\n",
       "    </tr>\n",
       "  </thead>\n",
       "  <tbody>\n",
       "    <tr>\n",
       "      <th>count</th>\n",
       "      <td>5</td>\n",
       "      <td>5</td>\n",
       "      <td>5</td>\n",
       "      <td>5</td>\n",
       "      <td>5</td>\n",
       "      <td>5</td>\n",
       "      <td>5</td>\n",
       "      <td>5</td>\n",
       "      <td>5</td>\n",
       "      <td>5</td>\n",
       "      <td>5</td>\n",
       "      <td>5</td>\n",
       "      <td>5</td>\n",
       "      <td>5</td>\n",
       "    </tr>\n",
       "    <tr>\n",
       "      <th>unique</th>\n",
       "      <td>1</td>\n",
       "      <td>1</td>\n",
       "      <td>5</td>\n",
       "      <td>4</td>\n",
       "      <td>2</td>\n",
       "      <td>2</td>\n",
       "      <td>2</td>\n",
       "      <td>2</td>\n",
       "      <td>2</td>\n",
       "      <td>3</td>\n",
       "      <td>3</td>\n",
       "      <td>1</td>\n",
       "      <td>2</td>\n",
       "      <td>2</td>\n",
       "    </tr>\n",
       "    <tr>\n",
       "      <th>top</th>\n",
       "      <td>edgarjimenez@comfama.com.co</td>\n",
       "      <td>Edgar Leandro Jimenez Jaimes</td>\n",
       "      <td>Información Organizacional</td>\n",
       "      <td>Vallenato</td>\n",
       "      <td>No</td>\n",
       "      <td>Si</td>\n",
       "      <td>Si</td>\n",
       "      <td>Masculino</td>\n",
       "      <td>Si</td>\n",
       "      <td>SQL</td>\n",
       "      <td>Medio</td>\n",
       "      <td>Si</td>\n",
       "      <td>Si</td>\n",
       "      <td>Si</td>\n",
       "    </tr>\n",
       "    <tr>\n",
       "      <th>freq</th>\n",
       "      <td>5</td>\n",
       "      <td>5</td>\n",
       "      <td>1</td>\n",
       "      <td>2</td>\n",
       "      <td>3</td>\n",
       "      <td>4</td>\n",
       "      <td>3</td>\n",
       "      <td>3</td>\n",
       "      <td>3</td>\n",
       "      <td>2</td>\n",
       "      <td>3</td>\n",
       "      <td>5</td>\n",
       "      <td>3</td>\n",
       "      <td>3</td>\n",
       "    </tr>\n",
       "  </tbody>\n",
       "</table>\n",
       "</div>"
      ],
      "text/plain": [
       "                 correo_electronico                        nombre  \\\n",
       "count                             5                             5   \n",
       "unique                            1                             1   \n",
       "top     edgarjimenez@comfama.com.co  Edgar Leandro Jimenez Jaimes   \n",
       "freq                              5                             5   \n",
       "\n",
       "                            equipo musica_preferida tienes_hijos  \\\n",
       "count                            5                5            5   \n",
       "unique                           5                4            2   \n",
       "top     Información Organizacional        Vallenato           No   \n",
       "freq                             1                2            3   \n",
       "\n",
       "       te_gusta_analitica practicas_deporte     genero tienes_mascotas  \\\n",
       "count                   5                 5          5               5   \n",
       "unique                  2                 2          2               2   \n",
       "top                    Si                Si  Masculino              Si   \n",
       "freq                    4                 3          3               3   \n",
       "\n",
       "       programas_usados conocimientos_analitica estudio_de_analitica  \\\n",
       "count                 5                       5                    5   \n",
       "unique                3                       3                    1   \n",
       "top                 SQL                   Medio                   Si   \n",
       "freq                  2                       3                    5   \n",
       "\n",
       "       socializacion_equipo_analitica acciones_equipo_analitica  \n",
       "count                               5                         5  \n",
       "unique                              2                         2  \n",
       "top                                Si                        Si  \n",
       "freq                                3                         3  "
      ]
     },
     "execution_count": 12,
     "metadata": {},
     "output_type": "execute_result"
    }
   ],
   "source": [
    "'''\n",
    "Observemos algunas estadisticas rapidas sobre las columnas numericas\n",
    "'''\n",
    "df.describe(include = ['O'])"
   ]
  },
  {
   "cell_type": "markdown",
   "metadata": {
    "id": "FEwlTR-CmGoe"
   },
   "source": [
    "### Vamos a responder algunas preguntas a partir de nuestros datos ..."
   ]
  },
  {
   "cell_type": "code",
   "execution_count": 13,
   "metadata": {
    "colab": {
     "base_uri": "https://localhost:8080/",
     "height": 138
    },
    "id": "k8XEDDHplxBy",
    "outputId": "89caf3cd-24f1-4178-8dfb-2316d3ac8f43"
   },
   "outputs": [
    {
     "data": {
      "text/html": [
       "<div>\n",
       "<style scoped>\n",
       "    .dataframe tbody tr th:only-of-type {\n",
       "        vertical-align: middle;\n",
       "    }\n",
       "\n",
       "    .dataframe tbody tr th {\n",
       "        vertical-align: top;\n",
       "    }\n",
       "\n",
       "    .dataframe thead th {\n",
       "        text-align: right;\n",
       "    }\n",
       "</style>\n",
       "<table border=\"1\" class=\"dataframe\">\n",
       "  <thead>\n",
       "    <tr style=\"text-align: right;\">\n",
       "      <th></th>\n",
       "      <th>nombre</th>\n",
       "      <th>cantidad_libros</th>\n",
       "    </tr>\n",
       "  </thead>\n",
       "  <tbody>\n",
       "    <tr>\n",
       "      <th>1</th>\n",
       "      <td>Edgar Leandro Jimenez Jaimes</td>\n",
       "      <td>20</td>\n",
       "    </tr>\n",
       "    <tr>\n",
       "      <th>4</th>\n",
       "      <td>Edgar Leandro Jimenez Jaimes</td>\n",
       "      <td>18</td>\n",
       "    </tr>\n",
       "    <tr>\n",
       "      <th>0</th>\n",
       "      <td>Edgar Leandro Jimenez Jaimes</td>\n",
       "      <td>12</td>\n",
       "    </tr>\n",
       "  </tbody>\n",
       "</table>\n",
       "</div>"
      ],
      "text/plain": [
       "                         nombre  cantidad_libros\n",
       "1  Edgar Leandro Jimenez Jaimes               20\n",
       "4  Edgar Leandro Jimenez Jaimes               18\n",
       "0  Edgar Leandro Jimenez Jaimes               12"
      ]
     },
     "execution_count": 13,
     "metadata": {},
     "output_type": "execute_result"
    }
   ],
   "source": [
    "'''\n",
    "Como analista de datos que eres, te solicitan extraer las tres personas que mas\n",
    "libros leen de esta comunidad analitica. ¿Como lo harías?\n",
    "'''\n",
    "\n",
    "df[['nombre', 'cantidad_libros']].sort_values(by = 'cantidad_libros', ascending = False).head(3)"
   ]
  },
  {
   "cell_type": "code",
   "execution_count": 14,
   "metadata": {
    "colab": {
     "base_uri": "https://localhost:8080/"
    },
    "id": "iWg7Oza1lxBy",
    "outputId": "3ba61f08-4bc5-4b99-b47e-646f3cb0367b"
   },
   "outputs": [
    {
     "data": {
      "text/plain": [
       "genero\n",
       "Femenino     2\n",
       "Masculino    3\n",
       "Name: nombre, dtype: int64"
      ]
     },
     "execution_count": 14,
     "metadata": {},
     "output_type": "execute_result"
    }
   ],
   "source": [
    "'''\n",
    "Te solicitan presentar cuantas mujeres y hombres estamos comunidad analitica.\n",
    "¿Como lo harías?\n",
    "'''\n",
    "\n",
    "df.groupby(\"genero\")[\"nombre\"].count()"
   ]
  },
  {
   "cell_type": "code",
   "execution_count": 77,
   "metadata": {
    "colab": {
     "base_uri": "https://localhost:8080/"
    },
    "id": "H6NUIZpplxBz",
    "outputId": "eb504c21-46a8-42fc-94f9-43cd6efb0f05"
   },
   "outputs": [
    {
     "data": {
      "text/plain": [
       "tienes_hijos\n",
       "No    9.5\n",
       "Si    9.0\n",
       "Name: cantidad_libros, dtype: float64"
      ]
     },
     "execution_count": 77,
     "metadata": {
      "tags": []
     },
     "output_type": "execute_result"
    }
   ],
   "source": [
    "'''\n",
    "Ahora bien,¿Será que las personas que tienen hijos leen más o menos?\n",
    "¿Como lo harías?\n",
    "'''\n",
    "df.groupby(\"tienes_hijos\")['cantidad_libros'].mean()"
   ]
  },
  {
   "cell_type": "code",
   "execution_count": 78,
   "metadata": {
    "colab": {
     "base_uri": "https://localhost:8080/",
     "height": 35
    },
    "id": "1nIr8SH5nwVI",
    "outputId": "0ecf5275-377d-4dc2-8e9b-c05c5e83f1af"
   },
   "outputs": [
    {
     "data": {
      "application/vnd.google.colaboratory.intrinsic+json": {
       "type": "string"
      },
      "text/plain": [
       "'\\n¿Que otras preguntas crees que podriamos solucionar con estos datos?\\n'"
      ]
     },
     "execution_count": 78,
     "metadata": {
      "tags": []
     },
     "output_type": "execute_result"
    }
   ],
   "source": [
    "'''\n",
    "¿Que otras preguntas crees que podriamos solucionar con estos datos?\n",
    "'''"
   ]
  },
  {
   "cell_type": "markdown",
   "metadata": {
    "id": "LpPQlJ1hnver"
   },
   "source": [
    "## Vamos a ver algunas gráficas a partir de nuestros datos ..."
   ]
  },
  {
   "cell_type": "code",
   "execution_count": 79,
   "metadata": {
    "colab": {
     "base_uri": "https://localhost:8080/",
     "height": 322
    },
    "id": "xmHhoN_IlxBz",
    "outputId": "68ef9ec9-3c24-48e9-c883-bef87b7ec3ee"
   },
   "outputs": [
    {
     "data": {
      "text/plain": [
       "<matplotlib.axes._subplots.AxesSubplot at 0x7f9e7cbdc610>"
      ]
     },
     "execution_count": 79,
     "metadata": {
      "tags": []
     },
     "output_type": "execute_result"
    },
    {
     "data": {
      "image/png": "[encoded data removed]",
      "text/plain": [
       "<Figure size 432x288 with 1 Axes>"
      ]
     },
     "metadata": {
      "needs_background": "light",
      "tags": []
     },
     "output_type": "display_data"
    }
   ],
   "source": [
    "'''\n",
    "Si necesitas presentar un gráfico donde se muestre el nivel de \n",
    "conocimiento en analítica de la tribu.\n",
    "¿Cómo lo harías? \n",
    "'''\n",
    "\n",
    "df[\"conocimientos_analitica\"].value_counts().plot.bar()\n"
   ]
  },
  {
   "cell_type": "code",
   "execution_count": 80,
   "metadata": {
    "colab": {
     "base_uri": "https://localhost:8080/",
     "height": 334
    },
    "id": "ysbkAVznqucc",
    "outputId": "c9d7adf1-c7b6-4bc4-ab03-af733fe2734f"
   },
   "outputs": [
    {
     "data": {
      "image/png": "[encoded data removed]",
      "text/plain": [
       "<Figure size 432x288 with 1 Axes>"
      ]
     },
     "metadata": {
      "needs_background": "light",
      "tags": []
     },
     "output_type": "display_data"
    }
   ],
   "source": [
    "'''\n",
    "Un poquito mas elaborado...\n",
    "'''\n",
    "df[\"conocimientos_analitica\"].value_counts().plot.bar(color = '#EE2B7B')\n",
    "plt.title('Conocimiento en analítica de la tribu - 2021')\n",
    "plt.xlabel('Nivel de conocimiento')\n",
    "plt.ylabel('Cantidad de personas')\n",
    "plt.grid()\n"
   ]
  },
  {
   "cell_type": "code",
   "execution_count": 81,
   "metadata": {
    "colab": {
     "base_uri": "https://localhost:8080/",
     "height": 265
    },
    "id": "QLMRCypuA7kO",
    "outputId": "1def4629-7c8a-4679-cbf7-f594d834ed30"
   },
   "outputs": [
    {
     "data": {
      "image/png": "[encoded data removed]",
      "text/plain": [
       "<Figure size 432x288 with 1 Axes>"
      ]
     },
     "metadata": {
      "needs_background": "light",
      "tags": []
     },
     "output_type": "display_data"
    }
   ],
   "source": [
    "# Grafica de libros leidos al año\n",
    "'''\n",
    "Si necesitas presentar un gráfico donde se muestre la distribución \n",
    "de los libros leidos de la tribu.\n",
    "¿Cómo lo harías? \n",
    "'''\n",
    "sns.boxplot(data = df['cantidad_libros'])\n",
    "plt.grid()\n"
   ]
  },
  {
   "cell_type": "code",
   "execution_count": 82,
   "metadata": {
    "colab": {
     "base_uri": "https://localhost:8080/",
     "height": 295
    },
    "id": "FurwM1Wxsyhk",
    "outputId": "828c74c1-8ddf-475a-cf90-7d4c258e97ed"
   },
   "outputs": [
    {
     "data": {
      "image/png": "[encoded data removed]",
      "text/plain": [
       "<Figure size 432x288 with 1 Axes>"
      ]
     },
     "metadata": {
      "needs_background": "light",
      "tags": []
     },
     "output_type": "display_data"
    }
   ],
   "source": [
    "'''\n",
    "Será que esta distribución es diferente entre hombres y mujeres?\n",
    "¿Como lo harías?\n",
    "\n",
    "Un poco mas elaborado...\n",
    "'''\n",
    "ax = sns.boxplot(x = df['genero'] , y = df['cantidad_libros'])\n",
    "ax.set_title('Distribución de libros leidos por genero en la tribu - 2021')\n",
    "ax.set_ylabel('Libros leidos')\n",
    "ax.set_xlabel('Genero')\n",
    "plt.grid()\n"
   ]
  },
  {
   "cell_type": "code",
   "execution_count": 83,
   "metadata": {
    "colab": {
     "base_uri": "https://localhost:8080/",
     "height": 357
    },
    "id": "r8-Qjc-3lxB0",
    "outputId": "6b74b2c5-4ac5-46dc-d9a2-d1192ec49f65"
   },
   "outputs": [
    {
     "data": {
      "text/plain": [
       "([<matplotlib.patches.Wedge at 0x7f9e73eda8d0>,\n",
       "  <matplotlib.patches.Wedge at 0x7f9e73edaf50>],\n",
       " [Text(-0.6858388280562522, 0.8600145940217683, 'Si'),\n",
       "  Text(0.6858389085766268, -0.8600145298088989, 'No')],\n",
       " [Text(-0.37409390621250116, 0.469098869466419, '71.4%'),\n",
       "  Text(0.37409395013270547, -0.4690988344412175, '28.6%')])"
      ]
     },
     "execution_count": 83,
     "metadata": {
      "tags": []
     },
     "output_type": "execute_result"
    },
    {
     "data": {
      "image/png": "[encoded data removed]",
      "text/plain": [
       "<Figure size 432x288 with 1 Axes>"
      ]
     },
     "metadata": {
      "tags": []
     },
     "output_type": "display_data"
    }
   ],
   "source": [
    "'''\n",
    "Si necesitas presentar un gráfico donde se muestre el porcentaje  \n",
    "de personas que tienen hijos de la tribu.\n",
    "¿Cómo lo harías? \n",
    "'''\n",
    "\n",
    "conteo_hijos = df[\"tienes_hijos\"].value_counts()\n",
    "plt.pie(conteo_hijos.values, labels = ['Si', 'No'], autopct = '%1.1f%%')"
   ]
  },
  {
   "cell_type": "code",
   "execution_count": 84,
   "metadata": {
    "colab": {
     "base_uri": "https://localhost:8080/",
     "height": 313
    },
    "id": "6VAit2TnvDBT",
    "outputId": "04428f96-67cd-4a99-b6df-611bf43fa4e8"
   },
   "outputs": [
    {
     "data": {
      "image/png": "[encoded data removed]",
      "text/plain": [
       "<Figure size 432x288 with 1 Axes>"
      ]
     },
     "metadata": {
      "tags": []
     },
     "output_type": "display_data"
    }
   ],
   "source": [
    "'''\n",
    "Un poquito mas elaborado...\n",
    "'''\n",
    "\n",
    "explode = (0, 0.1)\n",
    "colors = ['#EE2B7B','#66b3ff']\n",
    "\n",
    "plt.pie(conteo_hijos.values, \n",
    "            explode=explode,\n",
    "            colors=colors,\n",
    "            shadow = True, \n",
    "            startangle=90,\n",
    "            labels = ['Si', 'No'], autopct = '%1.1f%%')\n",
    "plt.tight_layout()\n",
    "plt.title('Porcentaje de personas que tienen hijos en la tribu - 2021')\n",
    "plt.show()"
   ]
  },
  {
   "cell_type": "code",
   "execution_count": 85,
   "metadata": {
    "colab": {
     "base_uri": "https://localhost:8080/",
     "height": 35
    },
    "id": "ctqqafJ8lxB1",
    "outputId": "bdfe0b65-4bff-4450-92f6-f2e30c5c7094"
   },
   "outputs": [
    {
     "data": {
      "application/vnd.google.colaboratory.intrinsic+json": {
       "type": "string"
      },
      "text/plain": [
       "'\\n¿Que otras gráficas se te ocurren que podamos presentar?\\n'"
      ]
     },
     "execution_count": 85,
     "metadata": {
      "tags": []
     },
     "output_type": "execute_result"
    }
   ],
   "source": [
    "'''\n",
    "¿Que otras gráficas se te ocurren que podamos presentar?\n",
    "'''"
   ]
  },
  {
   "cell_type": "code",
   "execution_count": 86,
   "metadata": {
    "colab": {
     "base_uri": "https://localhost:8080/",
     "height": 35
    },
    "id": "byg9-fe0lxB1",
    "outputId": "f4c3d22c-8b50-49e1-fd3e-a07704448ec5"
   },
   "outputs": [
    {
     "data": {
      "application/vnd.google.colaboratory.intrinsic+json": {
       "type": "string"
      },
      "text/plain": [
       "'\\n¿Que otros ejercicios y análisis podemos realizar a partir de estos datos?\\n'"
      ]
     },
     "execution_count": 86,
     "metadata": {
      "tags": []
     },
     "output_type": "execute_result"
    }
   ],
   "source": [
    "'''\n",
    "¿Que otros ejercicios y análisis podemos realizar a partir de estos datos?\n",
    "'''"
   ]
  },
  {
   "cell_type": "markdown",
   "metadata": {},
   "source": [
    "# Ejercicios opcionales "
   ]
  },
  {
   "cell_type": "code",
   "execution_count": 20,
   "metadata": {},
   "outputs": [],
   "source": [
    "'''\n",
    "Calcular la edad de los usuarios\n",
    "'''\n",
    "\n",
    "df[\"edad\"] = ((datetime.now() - df[\"fecha_nacimiento\"]).dt.days / 365.25).map(int)\n",
    "\n",
    "'''\n",
    "¿Te imaginas por qué dividimos por 365.25?\n",
    "'''"
   ]
  },
  {
   "cell_type": "code",
   "execution_count": 32,
   "metadata": {},
   "outputs": [
    {
     "data": {
      "text/plain": [
       "(array([2., 2., 0., 0., 0., 0., 0., 0., 0., 1.]),\n",
       " array([29. , 35.5, 42. , 48.5, 55. , 61.5, 68. , 74.5, 81. , 87.5, 94. ]),\n",
       " <a list of 10 Patch objects>)"
      ]
     },
     "execution_count": 32,
     "metadata": {},
     "output_type": "execute_result"
    },
    {
     "data": {
      "image/png": "[encoded data removed]",
      "text/plain": [
       "<Figure size 432x288 with 1 Axes>"
      ]
     },
     "metadata": {
      "needs_background": "light"
     },
     "output_type": "display_data"
    }
   ],
   "source": [
    "'''\n",
    "¿Cuánto se demoró la tribu respondiendo la encuesta?\n",
    "'''\n",
    "\n",
    "tiempo_realizacion = (df[\"hora_finalizacion\"] - df[\"hora_inicial\"]).dt.seconds \n",
    "plt.hist(tiempo_realizacion)"
   ]
  },
  {
   "cell_type": "code",
   "execution_count": 39,
   "metadata": {},
   "outputs": [
    {
     "name": "stdout",
     "output_type": "stream",
     "text": [
      "2\n",
      "4\n",
      "6\n",
      "8\n"
     ]
    }
   ],
   "source": [
    "'''\n",
    "¿Puedes hacer un programa que imprima los números pares que están entre 1 y una variable de entrada 'a'?\n",
    "'''\n",
    "\n",
    "a = 10\n",
    "for i in range(1, a):\n",
    "    if i % 2 == 0:\n",
    "        print(i)"
   ]
  },
  {
   "cell_type": "code",
   "execution_count": 40,
   "metadata": {},
   "outputs": [
    {
     "data": {
      "text/plain": [
       "8"
      ]
     },
     "execution_count": 40,
     "metadata": {},
     "output_type": "execute_result"
    }
   ],
   "source": [
    "'''\n",
    "Hablemos de funciones. ¿Qué te imaginas que es una función? Si no sabes, ¡búscalo!\n",
    "\n",
    "¿Puedes escribir una función que sume dos números 'x' y 'y'?\n",
    "'''\n",
    "\n",
    "def suma(x, y):\n",
    "    return x + y\n",
    "\n",
    "suma(3, 5)"
   ]
  },
  {
   "cell_type": "markdown",
   "metadata": {
    "id": "mqCLw5WNxKxE"
   },
   "source": [
    "## <center> ¡¡Muchas gracias Tribu!!\n",
    " "
   ]
  },
  {
   "cell_type": "markdown",
   "metadata": {
    "id": "mULSh7SLxHPr"
   },
   "source": [
    "# Fin del Workshop\n"
   ]
  }
 ],
 "metadata": {
  "colab": {
   "collapsed_sections": [],
   "name": "Copia_Comunidad_analítica.ipynb",
   "provenance": []
  },
  "kernelspec": {
   "display_name": "Python 3",
   "language": "python",
   "name": "python3"
  },
  "language_info": {
   "codemirror_mode": {
    "name": "ipython",
    "version": 3
   },
   "file_extension": ".py",
   "mimetype": "text/x-python",
   "name": "python",
   "nbconvert_exporter": "python",
   "pygments_lexer": "ipython3",
   "version": "3.7.3"
  }
 },
 "nbformat": 4,
 "nbformat_minor": 1
}
